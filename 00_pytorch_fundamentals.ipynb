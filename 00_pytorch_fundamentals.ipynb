{
  "nbformat": 4,
  "nbformat_minor": 0,
  "metadata": {
    "colab": {
      "provenance": []
    },
    "kernelspec": {
      "name": "python3",
      "display_name": "Python 3"
    },
    "language_info": {
      "name": "python"
    }
  },
  "cells": [
    {
      "cell_type": "markdown",
      "source": [
        "Questions: https://github.com/mrdbourke/pytorch-deep-learning/discussions\n",
        "Resource notebook:"
      ],
      "metadata": {
        "id": "vACM73HRy40e"
      }
    },
    {
      "cell_type": "code",
      "source": [],
      "metadata": {
        "id": "nhGJtueEye5d"
      },
      "execution_count": null,
      "outputs": []
    },
    {
      "cell_type": "code",
      "execution_count": 1,
      "metadata": {
        "colab": {
          "base_uri": "https://localhost:8080/"
        },
        "id": "P9D15M-kwrkA",
        "outputId": "5098830d-6ce9-47ef-9121-47cdfb44eea4"
      },
      "outputs": [
        {
          "output_type": "stream",
          "name": "stdout",
          "text": [
            "2.1.0+cu121\n"
          ]
        }
      ],
      "source": [
        "import torch\n",
        "import pandas as pd\n",
        "import numpy as np\n",
        "import matplotlib.pyplot as plt\n",
        "print(torch.__version__)"
      ]
    },
    {
      "cell_type": "markdown",
      "source": [
        "## Introduction to Tensors\n",
        "### Creating Tensors"
      ],
      "metadata": {
        "id": "lV9JXWAqzVz3"
      }
    },
    {
      "cell_type": "code",
      "source": [
        "scalar = torch.tensor(7)\n",
        "print(scalar)"
      ],
      "metadata": {
        "colab": {
          "base_uri": "https://localhost:8080/"
        },
        "id": "qfM71JVfyZU2",
        "outputId": "2ecfb534-da4f-4922-ab37-9ceeca8cb3ba"
      },
      "execution_count": 2,
      "outputs": [
        {
          "output_type": "stream",
          "name": "stdout",
          "text": [
            "tensor(7)\n"
          ]
        }
      ]
    },
    {
      "cell_type": "code",
      "source": [
        "scalar.ndim"
      ],
      "metadata": {
        "colab": {
          "base_uri": "https://localhost:8080/"
        },
        "id": "li7aN100zhFJ",
        "outputId": "251f36ef-eb4b-4557-9bea-88bc1fb13f62"
      },
      "execution_count": 3,
      "outputs": [
        {
          "output_type": "execute_result",
          "data": {
            "text/plain": [
              "0"
            ]
          },
          "metadata": {},
          "execution_count": 3
        }
      ]
    },
    {
      "cell_type": "code",
      "source": [
        "i=scalar.item()\n",
        "print(i)"
      ],
      "metadata": {
        "colab": {
          "base_uri": "https://localhost:8080/"
        },
        "id": "PJWsxBT9z_-6",
        "outputId": "14e762ae-8327-4ce4-e5b7-693136470447"
      },
      "execution_count": 4,
      "outputs": [
        {
          "output_type": "stream",
          "name": "stdout",
          "text": [
            "7\n"
          ]
        }
      ]
    },
    {
      "cell_type": "code",
      "source": [
        "# Vector\n",
        "vector = torch.tensor([7,7])\n",
        "vector\n",
        "print(vector.ndim)"
      ],
      "metadata": {
        "colab": {
          "base_uri": "https://localhost:8080/"
        },
        "id": "Bh7knJt10LrU",
        "outputId": "5808c0ff-5ada-462b-9cc9-aefe53f95d18"
      },
      "execution_count": 5,
      "outputs": [
        {
          "output_type": "stream",
          "name": "stdout",
          "text": [
            "1\n"
          ]
        }
      ]
    },
    {
      "cell_type": "code",
      "source": [
        "vector.shape"
      ],
      "metadata": {
        "colab": {
          "base_uri": "https://localhost:8080/"
        },
        "id": "M2yR7Uoe0Xu1",
        "outputId": "76f75b03-e224-413b-bffe-69c0cb72b699"
      },
      "execution_count": 6,
      "outputs": [
        {
          "output_type": "execute_result",
          "data": {
            "text/plain": [
              "torch.Size([2])"
            ]
          },
          "metadata": {},
          "execution_count": 6
        }
      ]
    },
    {
      "cell_type": "code",
      "source": [
        "# Matrix\n",
        "MATRIX = torch.tensor([[7,7,7],[4,4,4]])\n",
        "MATRIX"
      ],
      "metadata": {
        "colab": {
          "base_uri": "https://localhost:8080/"
        },
        "id": "pOhZRUgm0jOK",
        "outputId": "23c2ea41-2ae9-4b0e-cdc4-c153e385247a"
      },
      "execution_count": 7,
      "outputs": [
        {
          "output_type": "execute_result",
          "data": {
            "text/plain": [
              "tensor([[7, 7, 7],\n",
              "        [4, 4, 4]])"
            ]
          },
          "metadata": {},
          "execution_count": 7
        }
      ]
    },
    {
      "cell_type": "code",
      "source": [
        "print(MATRIX.shape)\n",
        "print(MATRIX.ndim)"
      ],
      "metadata": {
        "colab": {
          "base_uri": "https://localhost:8080/"
        },
        "id": "BpvqHu9K0vzm",
        "outputId": "8e069b76-2ea8-478a-c15e-aec1d9d4b5a7"
      },
      "execution_count": 8,
      "outputs": [
        {
          "output_type": "stream",
          "name": "stdout",
          "text": [
            "torch.Size([2, 3])\n",
            "2\n"
          ]
        }
      ]
    },
    {
      "cell_type": "code",
      "source": [
        "# matrix\n",
        "print(MATRIX.item())"
      ],
      "metadata": {
        "colab": {
          "base_uri": "https://localhost:8080/",
          "height": 192
        },
        "id": "F_hPQoBW02HN",
        "outputId": "9e6ec155-2437-4fe9-9061-ebe3412040d8"
      },
      "execution_count": 9,
      "outputs": [
        {
          "output_type": "error",
          "ename": "RuntimeError",
          "evalue": "ignored",
          "traceback": [
            "\u001b[0;31m---------------------------------------------------------------------------\u001b[0m",
            "\u001b[0;31mRuntimeError\u001b[0m                              Traceback (most recent call last)",
            "\u001b[0;32m<ipython-input-9-953921862e57>\u001b[0m in \u001b[0;36m<cell line: 2>\u001b[0;34m()\u001b[0m\n\u001b[1;32m      1\u001b[0m \u001b[0;31m# matrix\u001b[0m\u001b[0;34m\u001b[0m\u001b[0;34m\u001b[0m\u001b[0m\n\u001b[0;32m----> 2\u001b[0;31m \u001b[0mprint\u001b[0m\u001b[0;34m(\u001b[0m\u001b[0mMATRIX\u001b[0m\u001b[0;34m.\u001b[0m\u001b[0mitem\u001b[0m\u001b[0;34m(\u001b[0m\u001b[0;34m)\u001b[0m\u001b[0;34m)\u001b[0m\u001b[0;34m\u001b[0m\u001b[0;34m\u001b[0m\u001b[0m\n\u001b[0m",
            "\u001b[0;31mRuntimeError\u001b[0m: a Tensor with 6 elements cannot be converted to Scalar"
          ]
        }
      ]
    },
    {
      "cell_type": "code",
      "source": [
        "# Tensor\n",
        "TENSOR = torch.tensor([\n",
        "                        [[1,2,3],\n",
        "                        [3,6,9],\n",
        "                        [2,4,5]],\n",
        "\n",
        "\n",
        "                        [[4,2,3],\n",
        "                        [3,6,9],\n",
        "                        [2,4,5]]\n",
        "\n",
        "                        ])\n",
        "\n",
        "TENSOR"
      ],
      "metadata": {
        "colab": {
          "base_uri": "https://localhost:8080/"
        },
        "id": "2hx7B7Jk1Kb_",
        "outputId": "8580682d-4ca9-4c34-a80a-8074f60bd8b0"
      },
      "execution_count": 10,
      "outputs": [
        {
          "output_type": "execute_result",
          "data": {
            "text/plain": [
              "tensor([[[1, 2, 3],\n",
              "         [3, 6, 9],\n",
              "         [2, 4, 5]],\n",
              "\n",
              "        [[4, 2, 3],\n",
              "         [3, 6, 9],\n",
              "         [2, 4, 5]]])"
            ]
          },
          "metadata": {},
          "execution_count": 10
        }
      ]
    },
    {
      "cell_type": "code",
      "source": [
        "TENSOR.ndim"
      ],
      "metadata": {
        "colab": {
          "base_uri": "https://localhost:8080/"
        },
        "id": "YLmm6HLt1gdW",
        "outputId": "de5f82d2-77b8-4889-a788-feb379230c6f"
      },
      "execution_count": 11,
      "outputs": [
        {
          "output_type": "execute_result",
          "data": {
            "text/plain": [
              "3"
            ]
          },
          "metadata": {},
          "execution_count": 11
        }
      ]
    },
    {
      "cell_type": "code",
      "source": [
        "TENSOR.shape"
      ],
      "metadata": {
        "colab": {
          "base_uri": "https://localhost:8080/"
        },
        "id": "NIypokN51jcy",
        "outputId": "41b397cf-8cde-4436-f8e4-10ca2c841c1c"
      },
      "execution_count": 12,
      "outputs": [
        {
          "output_type": "execute_result",
          "data": {
            "text/plain": [
              "torch.Size([2, 3, 3])"
            ]
          },
          "metadata": {},
          "execution_count": 12
        }
      ]
    },
    {
      "cell_type": "code",
      "source": [
        "TENSOR[1]"
      ],
      "metadata": {
        "colab": {
          "base_uri": "https://localhost:8080/"
        },
        "id": "4CX6-R871rCC",
        "outputId": "cb163147-dede-4da6-cfb0-f6d1617c4952"
      },
      "execution_count": 13,
      "outputs": [
        {
          "output_type": "execute_result",
          "data": {
            "text/plain": [
              "tensor([[4, 2, 3],\n",
              "        [3, 6, 9],\n",
              "        [2, 4, 5]])"
            ]
          },
          "metadata": {},
          "execution_count": 13
        }
      ]
    },
    {
      "cell_type": "markdown",
      "source": [
        "### Random Tensor"
      ],
      "metadata": {
        "id": "8JNKbWNW2Hpb"
      }
    },
    {
      "cell_type": "code",
      "source": [
        "random_tensors = torch.rand(1,2,2)"
      ],
      "metadata": {
        "id": "lLseUcBU2YpF"
      },
      "execution_count": 14,
      "outputs": []
    },
    {
      "cell_type": "code",
      "source": [
        "random_tensors"
      ],
      "metadata": {
        "colab": {
          "base_uri": "https://localhost:8080/"
        },
        "id": "Xh91SaIJ2t2G",
        "outputId": "3152007b-86e7-4666-bd66-ea8eff1477f4"
      },
      "execution_count": 15,
      "outputs": [
        {
          "output_type": "execute_result",
          "data": {
            "text/plain": [
              "tensor([[[0.1682, 0.0803],\n",
              "         [0.1826, 0.4550]]])"
            ]
          },
          "metadata": {},
          "execution_count": 15
        }
      ]
    },
    {
      "cell_type": "code",
      "source": [
        "print(random_tensors.ndim)\n",
        "print(random_tensors.shape)"
      ],
      "metadata": {
        "colab": {
          "base_uri": "https://localhost:8080/"
        },
        "id": "4bBZLac02uzQ",
        "outputId": "738776df-40f5-4389-b97d-e44302f2ce4e"
      },
      "execution_count": 16,
      "outputs": [
        {
          "output_type": "stream",
          "name": "stdout",
          "text": [
            "3\n",
            "torch.Size([1, 2, 2])\n"
          ]
        }
      ]
    },
    {
      "cell_type": "code",
      "source": [
        "random_tensors = torch.rand(3,224,224)### channel, height, width\n",
        "random_tensors"
      ],
      "metadata": {
        "colab": {
          "base_uri": "https://localhost:8080/"
        },
        "id": "KVqEOA4_2zg4",
        "outputId": "9bbb824c-6ebb-4a03-f96d-800ddde3d9c2"
      },
      "execution_count": 17,
      "outputs": [
        {
          "output_type": "execute_result",
          "data": {
            "text/plain": [
              "tensor([[[0.1105, 0.1223, 0.2312,  ..., 0.4229, 0.9196, 0.7823],\n",
              "         [0.2940, 0.6078, 0.0691,  ..., 0.4252, 0.7415, 0.6430],\n",
              "         [0.6386, 0.1429, 0.3640,  ..., 0.2326, 0.2654, 0.3019],\n",
              "         ...,\n",
              "         [0.6851, 0.7296, 0.1491,  ..., 0.9341, 0.8112, 0.2073],\n",
              "         [0.7547, 0.3611, 0.7479,  ..., 0.1657, 0.8866, 0.0047],\n",
              "         [0.6947, 0.6515, 0.1968,  ..., 0.2986, 0.4915, 0.5467]],\n",
              "\n",
              "        [[0.9225, 0.7708, 0.2730,  ..., 0.9692, 0.6611, 0.5715],\n",
              "         [0.1408, 0.8788, 0.1699,  ..., 0.4109, 0.5333, 0.0379],\n",
              "         [0.6151, 0.2196, 0.3906,  ..., 0.5840, 0.8302, 0.3348],\n",
              "         ...,\n",
              "         [0.8244, 0.6308, 0.8103,  ..., 0.7403, 0.2730, 0.8033],\n",
              "         [0.6825, 0.8445, 0.5012,  ..., 0.0218, 0.3235, 0.3246],\n",
              "         [0.0845, 0.5986, 0.6507,  ..., 0.1680, 0.4923, 0.8761]],\n",
              "\n",
              "        [[0.2451, 0.6083, 0.3799,  ..., 0.6898, 0.7653, 0.6495],\n",
              "         [0.4556, 0.0227, 0.3143,  ..., 0.1390, 0.9919, 0.8971],\n",
              "         [0.0471, 0.4002, 0.7969,  ..., 0.2715, 0.9374, 0.7207],\n",
              "         ...,\n",
              "         [0.5102, 0.4051, 0.8291,  ..., 0.1573, 0.9042, 0.5730],\n",
              "         [0.7243, 0.8954, 0.2801,  ..., 0.3470, 0.3202, 0.5180],\n",
              "         [0.1674, 0.6928, 0.7210,  ..., 0.1939, 0.2496, 0.3800]]])"
            ]
          },
          "metadata": {},
          "execution_count": 17
        }
      ]
    },
    {
      "cell_type": "code",
      "source": [
        "random_tensors.shape, random_tensors.ndim"
      ],
      "metadata": {
        "colab": {
          "base_uri": "https://localhost:8080/"
        },
        "id": "VsnTiEb33dkf",
        "outputId": "0b38e285-32fd-45b2-d378-83d045ace718"
      },
      "execution_count": 18,
      "outputs": [
        {
          "output_type": "execute_result",
          "data": {
            "text/plain": [
              "(torch.Size([3, 224, 224]), 3)"
            ]
          },
          "metadata": {},
          "execution_count": 18
        }
      ]
    },
    {
      "cell_type": "markdown",
      "source": [
        "### Zeros and ones"
      ],
      "metadata": {
        "id": "z-lHh4yK3uYA"
      }
    },
    {
      "cell_type": "code",
      "source": [
        "zero = torch.zeros(3,4)\n",
        "zero"
      ],
      "metadata": {
        "colab": {
          "base_uri": "https://localhost:8080/"
        },
        "id": "g3gyIYJH4enH",
        "outputId": "997bd680-b685-46df-be3d-feefe9759d8e"
      },
      "execution_count": 19,
      "outputs": [
        {
          "output_type": "execute_result",
          "data": {
            "text/plain": [
              "tensor([[0., 0., 0., 0.],\n",
              "        [0., 0., 0., 0.],\n",
              "        [0., 0., 0., 0.]])"
            ]
          },
          "metadata": {},
          "execution_count": 19
        }
      ]
    },
    {
      "cell_type": "code",
      "source": [
        "random_tensors = torch.rand(3,4)"
      ],
      "metadata": {
        "id": "NMgRtGvA4sSI"
      },
      "execution_count": 20,
      "outputs": []
    },
    {
      "cell_type": "code",
      "source": [
        "zero*random_tensors ## not the dot product this is the element wise multiplication"
      ],
      "metadata": {
        "colab": {
          "base_uri": "https://localhost:8080/"
        },
        "id": "KeYjsBw94kVh",
        "outputId": "1ce766b8-7221-471b-d94c-2446198d15ac"
      },
      "execution_count": 21,
      "outputs": [
        {
          "output_type": "execute_result",
          "data": {
            "text/plain": [
              "tensor([[0., 0., 0., 0.],\n",
              "        [0., 0., 0., 0.],\n",
              "        [0., 0., 0., 0.]])"
            ]
          },
          "metadata": {},
          "execution_count": 21
        }
      ]
    },
    {
      "cell_type": "code",
      "source": [
        "ones = torch.ones(3,4)\n",
        "ones"
      ],
      "metadata": {
        "colab": {
          "base_uri": "https://localhost:8080/"
        },
        "id": "Z7ihRBol4nCL",
        "outputId": "06449ce9-4e2a-48ab-add1-3409e8512a64"
      },
      "execution_count": 22,
      "outputs": [
        {
          "output_type": "execute_result",
          "data": {
            "text/plain": [
              "tensor([[1., 1., 1., 1.],\n",
              "        [1., 1., 1., 1.],\n",
              "        [1., 1., 1., 1.]])"
            ]
          },
          "metadata": {},
          "execution_count": 22
        }
      ]
    },
    {
      "cell_type": "code",
      "source": [
        "### Range"
      ],
      "metadata": {
        "id": "KKyiCpy24-G6"
      },
      "execution_count": null,
      "outputs": []
    },
    {
      "cell_type": "code",
      "source": [
        "one_to_ten = torch.arange(0,10)\n",
        "one_to_ten"
      ],
      "metadata": {
        "colab": {
          "base_uri": "https://localhost:8080/"
        },
        "id": "V-nY_YY95FJm",
        "outputId": "9e1e32d5-704d-4448-9c37-e2e71da3588e"
      },
      "execution_count": 23,
      "outputs": [
        {
          "output_type": "execute_result",
          "data": {
            "text/plain": [
              "tensor([0, 1, 2, 3, 4, 5, 6, 7, 8, 9])"
            ]
          },
          "metadata": {},
          "execution_count": 23
        }
      ]
    },
    {
      "cell_type": "code",
      "source": [
        "a = torch.arange(start = 0,end = 10, step= 2)\n",
        "a"
      ],
      "metadata": {
        "colab": {
          "base_uri": "https://localhost:8080/"
        },
        "id": "w66gT_z25I-V",
        "outputId": "4ca9acbe-36d0-472c-e023-1ee2b125bcb6"
      },
      "execution_count": 24,
      "outputs": [
        {
          "output_type": "execute_result",
          "data": {
            "text/plain": [
              "tensor([0, 2, 4, 6, 8])"
            ]
          },
          "metadata": {},
          "execution_count": 24
        }
      ]
    },
    {
      "cell_type": "code",
      "source": [
        "## Creating tensor-like\n",
        "ten_zeros =  torch.zeros_like(input=one_to_ten)\n",
        "ten_zeros"
      ],
      "metadata": {
        "colab": {
          "base_uri": "https://localhost:8080/"
        },
        "id": "R8NOVoNF5JBH",
        "outputId": "2c882550-f3c3-4a8c-8531-fa3234610153"
      },
      "execution_count": 25,
      "outputs": [
        {
          "output_type": "execute_result",
          "data": {
            "text/plain": [
              "tensor([0, 0, 0, 0, 0, 0, 0, 0, 0, 0])"
            ]
          },
          "metadata": {},
          "execution_count": 25
        }
      ]
    },
    {
      "cell_type": "markdown",
      "source": [
        "### Tensor Datatypes\n"
      ],
      "metadata": {
        "id": "h1E9H5F95JDv"
      }
    },
    {
      "cell_type": "code",
      "source": [
        "float_32_tensor  = torch.tensor([3.0,6.0,9.0],dtype = None)\n",
        "float_32_tensor"
      ],
      "metadata": {
        "colab": {
          "base_uri": "https://localhost:8080/"
        },
        "id": "M0NJVe9_5JGe",
        "outputId": "e779a483-52e3-4fb1-a6e7-73e9667c7a32"
      },
      "execution_count": 26,
      "outputs": [
        {
          "output_type": "execute_result",
          "data": {
            "text/plain": [
              "tensor([3., 6., 9.])"
            ]
          },
          "metadata": {},
          "execution_count": 26
        }
      ]
    },
    {
      "cell_type": "code",
      "source": [
        "float_32_tensor.dtype"
      ],
      "metadata": {
        "colab": {
          "base_uri": "https://localhost:8080/"
        },
        "id": "fH54wXU55JI-",
        "outputId": "a593d52b-9afd-4485-f404-d2d8ed5a0d84"
      },
      "execution_count": 27,
      "outputs": [
        {
          "output_type": "execute_result",
          "data": {
            "text/plain": [
              "torch.float32"
            ]
          },
          "metadata": {},
          "execution_count": 27
        }
      ]
    },
    {
      "cell_type": "code",
      "source": [
        "float_32_tensor  = torch.tensor([3.0,6.0,9.0],dtype = torch.float32)\n",
        "float_32_tensor.dtype"
      ],
      "metadata": {
        "colab": {
          "base_uri": "https://localhost:8080/"
        },
        "id": "ydlGUIdg6b5y",
        "outputId": "bc50d83f-11a0-4fe9-b246-66d21b15c13c"
      },
      "execution_count": 28,
      "outputs": [
        {
          "output_type": "execute_result",
          "data": {
            "text/plain": [
              "torch.float32"
            ]
          },
          "metadata": {},
          "execution_count": 28
        }
      ]
    },
    {
      "cell_type": "code",
      "source": [
        "float_16_tensor  = torch.tensor([3.0,6.0,9.0],dtype = torch.float16)"
      ],
      "metadata": {
        "id": "t7zcd2gL6gGj"
      },
      "execution_count": 29,
      "outputs": []
    },
    {
      "cell_type": "code",
      "source": [
        "mix = float_32_tensor*float_16_tensor\n",
        "mix.dtype"
      ],
      "metadata": {
        "colab": {
          "base_uri": "https://localhost:8080/"
        },
        "id": "fbks5kxfZAyR",
        "outputId": "eaff75e2-ced6-46ee-96ff-276ed19b6656"
      },
      "execution_count": 30,
      "outputs": [
        {
          "output_type": "execute_result",
          "data": {
            "text/plain": [
              "torch.float32"
            ]
          },
          "metadata": {},
          "execution_count": 30
        }
      ]
    },
    {
      "cell_type": "code",
      "source": [
        "mix"
      ],
      "metadata": {
        "colab": {
          "base_uri": "https://localhost:8080/"
        },
        "id": "w1w_6yCjZMXH",
        "outputId": "e2753376-de47-4fee-e73a-66ff9a288580"
      },
      "execution_count": 31,
      "outputs": [
        {
          "output_type": "execute_result",
          "data": {
            "text/plain": [
              "tensor([ 9., 36., 81.])"
            ]
          },
          "metadata": {},
          "execution_count": 31
        }
      ]
    },
    {
      "cell_type": "code",
      "source": [
        "int_32 = torch.tensor([3,6,9],dtype=torch.int32)\n",
        "int_32"
      ],
      "metadata": {
        "colab": {
          "base_uri": "https://localhost:8080/"
        },
        "id": "A6aR7JqSZSsr",
        "outputId": "6fbf5f26-8433-4f35-9fc8-cb79dac956b8"
      },
      "execution_count": 32,
      "outputs": [
        {
          "output_type": "execute_result",
          "data": {
            "text/plain": [
              "tensor([3, 6, 9], dtype=torch.int32)"
            ]
          },
          "metadata": {},
          "execution_count": 32
        }
      ]
    },
    {
      "cell_type": "code",
      "source": [
        "float_32_tensor*int_32"
      ],
      "metadata": {
        "colab": {
          "base_uri": "https://localhost:8080/"
        },
        "id": "XA7VzVuBZewd",
        "outputId": "fcb05a84-3943-40e8-c2d6-dc2f7dc4d7ad"
      },
      "execution_count": 33,
      "outputs": [
        {
          "output_type": "execute_result",
          "data": {
            "text/plain": [
              "tensor([ 9., 36., 81.])"
            ]
          },
          "metadata": {},
          "execution_count": 33
        }
      ]
    },
    {
      "cell_type": "code",
      "source": [
        "#### Getting info from Tensors\n",
        "## Dtype\n",
        "## shape\n",
        "## device"
      ],
      "metadata": {
        "id": "Er-NMn9ZZnSe"
      },
      "execution_count": null,
      "outputs": []
    },
    {
      "cell_type": "code",
      "source": [
        "some_random = torch.rand(3,4)\n",
        "some_random"
      ],
      "metadata": {
        "colab": {
          "base_uri": "https://localhost:8080/"
        },
        "id": "x_vTdzbLZ8Iu",
        "outputId": "fc9ad690-4caa-4510-ce55-e97cfe8bc6b5"
      },
      "execution_count": 34,
      "outputs": [
        {
          "output_type": "execute_result",
          "data": {
            "text/plain": [
              "tensor([[0.5090, 0.0779, 0.8312, 0.5723],\n",
              "        [0.2860, 0.2764, 0.1287, 0.8459],\n",
              "        [0.3824, 0.6053, 0.3442, 0.5572]])"
            ]
          },
          "metadata": {},
          "execution_count": 34
        }
      ]
    },
    {
      "cell_type": "code",
      "source": [
        "#dtype\n",
        "print(\"Dtype :- \", some_random.dtype)\n",
        "print(\"Shape :- \", some_random.shape)\n",
        "print(\"Size :- \", some_random.size())\n",
        "print(\"Device :- \", some_random.device)"
      ],
      "metadata": {
        "colab": {
          "base_uri": "https://localhost:8080/"
        },
        "id": "8OU87KLvaBcL",
        "outputId": "78433755-7243-4990-c0ec-57af137e927f"
      },
      "execution_count": 35,
      "outputs": [
        {
          "output_type": "stream",
          "name": "stdout",
          "text": [
            "Dtype :-  torch.float32\n",
            "Shape :-  torch.Size([3, 4])\n",
            "Size :-  torch.Size([3, 4])\n",
            "Device :-  cpu\n"
          ]
        }
      ]
    },
    {
      "cell_type": "code",
      "source": [
        "device = torch.device(\"cuda\" if torch.cuda.is_available() else \"cpu\")"
      ],
      "metadata": {
        "id": "wezK-4JXbHDE"
      },
      "execution_count": 36,
      "outputs": []
    },
    {
      "cell_type": "code",
      "source": [
        "### Manipulating Tensors\n",
        "## Addition\n",
        "## Subtraction\n",
        "## Multiplication (ele-wise)\n",
        "## Division\n",
        "## Matrix Multiplication"
      ],
      "metadata": {
        "id": "3w3hV1w9aFZP"
      },
      "execution_count": 37,
      "outputs": []
    },
    {
      "cell_type": "code",
      "source": [
        "tensor = torch.rand(1,3)"
      ],
      "metadata": {
        "id": "pkZyXz3AbINx"
      },
      "execution_count": 38,
      "outputs": []
    },
    {
      "cell_type": "code",
      "source": [
        "tensor"
      ],
      "metadata": {
        "colab": {
          "base_uri": "https://localhost:8080/"
        },
        "id": "Vom74NrTbgtN",
        "outputId": "99f7b8c4-45b7-4471-f85f-381f58d6c9e1"
      },
      "execution_count": 39,
      "outputs": [
        {
          "output_type": "execute_result",
          "data": {
            "text/plain": [
              "tensor([[0.5891, 0.9579, 0.5137]])"
            ]
          },
          "metadata": {},
          "execution_count": 39
        }
      ]
    },
    {
      "cell_type": "code",
      "source": [
        "tensor1 = tensor+10\n",
        "print(tensor1)"
      ],
      "metadata": {
        "colab": {
          "base_uri": "https://localhost:8080/"
        },
        "id": "ochdPiVebOIB",
        "outputId": "e523345b-59e3-418f-b323-b9465c9ebcb9"
      },
      "execution_count": 40,
      "outputs": [
        {
          "output_type": "stream",
          "name": "stdout",
          "text": [
            "tensor([[10.5891, 10.9579, 10.5137]])\n"
          ]
        }
      ]
    },
    {
      "cell_type": "code",
      "source": [
        "tensor10 = tensor*10\n",
        "print(tensor10)"
      ],
      "metadata": {
        "colab": {
          "base_uri": "https://localhost:8080/"
        },
        "id": "6zOi6sJtbdkJ",
        "outputId": "ac564078-f3cc-4ffd-fbbb-96873d9a9ee0"
      },
      "execution_count": 41,
      "outputs": [
        {
          "output_type": "stream",
          "name": "stdout",
          "text": [
            "tensor([[5.8913, 9.5792, 5.1367]])\n"
          ]
        }
      ]
    },
    {
      "cell_type": "code",
      "source": [
        "tensor_1 = torch.tensor([1,2,3])\n",
        "tensor_2 = torch.tensor([1, 2, 3])\n",
        "print(tensor_1*tensor_2)"
      ],
      "metadata": {
        "colab": {
          "base_uri": "https://localhost:8080/"
        },
        "id": "HyWCXPTfbt_s",
        "outputId": "26d1cfa1-b58b-4b62-ebfd-d9e8d803b474"
      },
      "execution_count": 42,
      "outputs": [
        {
          "output_type": "stream",
          "name": "stdout",
          "text": [
            "tensor([1, 4, 9])\n"
          ]
        }
      ]
    },
    {
      "cell_type": "code",
      "source": [
        "## Matrix Multiplication\n",
        "print(torch.matmul(tensor_1,tensor_2))### torch.matmul is faster"
      ],
      "metadata": {
        "colab": {
          "base_uri": "https://localhost:8080/"
        },
        "id": "YkjGkF-Pb60i",
        "outputId": "36e0d690-8e6c-4418-80a8-dd0f659ad053"
      },
      "execution_count": 43,
      "outputs": [
        {
          "output_type": "stream",
          "name": "stdout",
          "text": [
            "tensor(14)\n"
          ]
        }
      ]
    },
    {
      "cell_type": "code",
      "source": [
        "t = torch.tensor([[1, 2, 3],[4,5,6],[7,8,9]])\n",
        "print(t)\n",
        "print(torch.transpose(t,0,1))"
      ],
      "metadata": {
        "colab": {
          "base_uri": "https://localhost:8080/"
        },
        "id": "Z6SgcuiocNPn",
        "outputId": "3c8b6919-0b3f-45b4-af37-b95eb147ef0d"
      },
      "execution_count": 44,
      "outputs": [
        {
          "output_type": "stream",
          "name": "stdout",
          "text": [
            "tensor([[1, 2, 3],\n",
            "        [4, 5, 6],\n",
            "        [7, 8, 9]])\n",
            "tensor([[1, 4, 7],\n",
            "        [2, 5, 8],\n",
            "        [3, 6, 9]])\n"
          ]
        }
      ]
    },
    {
      "cell_type": "code",
      "source": [
        "### Shapes of Matrix\n",
        "\n",
        "tensor_a= torch.tensor([[1,2],\n",
        "                        [3,4],\n",
        "                        [5,6]])\n",
        "\n",
        "tensor_b = torch.tensor([[7,10],\n",
        "                         [8,11],\n",
        "                         [9,12]])\n",
        "\n",
        "torch.mm(tensor_a,torch.transpose(tensor_b,0,1)) ## mm -> matmul\n"
      ],
      "metadata": {
        "colab": {
          "base_uri": "https://localhost:8080/"
        },
        "id": "dGNB9NTZcs5N",
        "outputId": "d79dc8aa-b4b3-40f5-a108-3da4a6cedee8"
      },
      "execution_count": 45,
      "outputs": [
        {
          "output_type": "execute_result",
          "data": {
            "text/plain": [
              "tensor([[ 27,  30,  33],\n",
              "        [ 61,  68,  75],\n",
              "        [ 95, 106, 117]])"
            ]
          },
          "metadata": {},
          "execution_count": 45
        }
      ]
    },
    {
      "cell_type": "code",
      "source": [
        "torch.mm(tensor_a,tensor_b.T)"
      ],
      "metadata": {
        "colab": {
          "base_uri": "https://localhost:8080/"
        },
        "id": "2Yw6AJMUd1_U",
        "outputId": "572a6229-efd6-4a2e-b5de-006d12639fac"
      },
      "execution_count": 46,
      "outputs": [
        {
          "output_type": "execute_result",
          "data": {
            "text/plain": [
              "tensor([[ 27,  30,  33],\n",
              "        [ 61,  68,  75],\n",
              "        [ 95, 106, 117]])"
            ]
          },
          "metadata": {},
          "execution_count": 46
        }
      ]
    },
    {
      "cell_type": "code",
      "source": [
        "#### Finding the min, max, mean, sum\n",
        "\n",
        "x = torch.tensor([1,2,3])\n",
        "print(torch.min(x))\n",
        "print(torch.max(x))"
      ],
      "metadata": {
        "colab": {
          "base_uri": "https://localhost:8080/"
        },
        "id": "ko_I01zyeEUM",
        "outputId": "1b3e2d1c-19c4-4086-8f8b-8d258f25ad57"
      },
      "execution_count": 47,
      "outputs": [
        {
          "output_type": "stream",
          "name": "stdout",
          "text": [
            "tensor(1)\n",
            "tensor(3)\n"
          ]
        }
      ]
    },
    {
      "cell_type": "code",
      "source": [
        "print(torch.mean(x)) #### Good error"
      ],
      "metadata": {
        "colab": {
          "base_uri": "https://localhost:8080/",
          "height": 175
        },
        "id": "5pQoAj4Pengl",
        "outputId": "cedd51cd-ff12-4336-e420-dc98c0c24652"
      },
      "execution_count": 48,
      "outputs": [
        {
          "output_type": "error",
          "ename": "RuntimeError",
          "evalue": "ignored",
          "traceback": [
            "\u001b[0;31m---------------------------------------------------------------------------\u001b[0m",
            "\u001b[0;31mRuntimeError\u001b[0m                              Traceback (most recent call last)",
            "\u001b[0;32m<ipython-input-48-b084e7127f02>\u001b[0m in \u001b[0;36m<cell line: 1>\u001b[0;34m()\u001b[0m\n\u001b[0;32m----> 1\u001b[0;31m \u001b[0mprint\u001b[0m\u001b[0;34m(\u001b[0m\u001b[0mtorch\u001b[0m\u001b[0;34m.\u001b[0m\u001b[0mmean\u001b[0m\u001b[0;34m(\u001b[0m\u001b[0mx\u001b[0m\u001b[0;34m)\u001b[0m\u001b[0;34m)\u001b[0m \u001b[0;31m#### Good error\u001b[0m\u001b[0;34m\u001b[0m\u001b[0;34m\u001b[0m\u001b[0m\n\u001b[0m",
            "\u001b[0;31mRuntimeError\u001b[0m: mean(): could not infer output dtype. Input dtype must be either a floating point or complex dtype. Got: Long"
          ]
        }
      ]
    },
    {
      "cell_type": "code",
      "source": [
        "### changing the type\n",
        "x = torch.tensor([1,2,3],dtype=torch.float32)\n",
        "print(torch.mean(x))\n",
        "\n",
        "\n",
        "x = torch.tensor([1,2,3])\n",
        "\n",
        "print(x.type(torch.float32).mean())\n",
        "print(torch.mean(x.type(torch.float32)))"
      ],
      "metadata": {
        "colab": {
          "base_uri": "https://localhost:8080/"
        },
        "id": "Ckhhn-ALevj6",
        "outputId": "e7d0556d-f488-4eac-ce95-9a2ec5fcda2d"
      },
      "execution_count": 49,
      "outputs": [
        {
          "output_type": "stream",
          "name": "stdout",
          "text": [
            "tensor(2.)\n",
            "tensor(2.)\n",
            "tensor(2.)\n"
          ]
        }
      ]
    },
    {
      "cell_type": "code",
      "source": [
        "## argmax, argmin\n",
        "x = torch.rand(1,10)\n",
        "print(x)\n",
        "print(torch.argmax(x))\n",
        "print(torch.argmin(x))"
      ],
      "metadata": {
        "colab": {
          "base_uri": "https://localhost:8080/"
        },
        "id": "e9y9R8I1fd50",
        "outputId": "9edaad0e-aa71-4601-e0ff-3ba25e9675ac"
      },
      "execution_count": 50,
      "outputs": [
        {
          "output_type": "stream",
          "name": "stdout",
          "text": [
            "tensor([[0.2916, 0.8762, 0.9098, 0.8432, 0.2722, 0.4740, 0.3173, 0.2102, 0.4762,\n",
            "         0.9235]])\n",
            "tensor(9)\n",
            "tensor(7)\n"
          ]
        }
      ]
    },
    {
      "cell_type": "code",
      "source": [
        "x[0][0]"
      ],
      "metadata": {
        "colab": {
          "base_uri": "https://localhost:8080/"
        },
        "id": "9qnpF4B2fzeN",
        "outputId": "f699d394-48bd-468b-e829-426b66b86eb4"
      },
      "execution_count": 51,
      "outputs": [
        {
          "output_type": "execute_result",
          "data": {
            "text/plain": [
              "tensor(0.2916)"
            ]
          },
          "metadata": {},
          "execution_count": 51
        }
      ]
    },
    {
      "cell_type": "code",
      "source": [
        "### Reshaping, viewing and stacking, squeezing, unsqueezing  tensors\n",
        "# Reshape\n",
        "# view\n",
        "# stack\n",
        "# squeeze\n",
        "# unsqueeze\n",
        "#Permute"
      ],
      "metadata": {
        "id": "UTha3w3Og5JD"
      },
      "execution_count": null,
      "outputs": []
    },
    {
      "cell_type": "code",
      "source": [
        "x = torch.arange(1.,10.)\n",
        "x,x.shape"
      ],
      "metadata": {
        "colab": {
          "base_uri": "https://localhost:8080/"
        },
        "id": "nRV4ohmVg5L0",
        "outputId": "b8f38752-9f4e-4ab3-ac1b-aee463de1dd6"
      },
      "execution_count": 52,
      "outputs": [
        {
          "output_type": "execute_result",
          "data": {
            "text/plain": [
              "(tensor([1., 2., 3., 4., 5., 6., 7., 8., 9.]), torch.Size([9]))"
            ]
          },
          "metadata": {},
          "execution_count": 52
        }
      ]
    },
    {
      "cell_type": "code",
      "source": [
        "x_reshaped = x.reshape(9,1)\n",
        "x_reshaped, x_reshaped.shape"
      ],
      "metadata": {
        "colab": {
          "base_uri": "https://localhost:8080/"
        },
        "id": "b36F54f-g5OC",
        "outputId": "d1bb8aa5-d7fc-4701-c2f6-512110cad023"
      },
      "execution_count": 53,
      "outputs": [
        {
          "output_type": "execute_result",
          "data": {
            "text/plain": [
              "(tensor([[1.],\n",
              "         [2.],\n",
              "         [3.],\n",
              "         [4.],\n",
              "         [5.],\n",
              "         [6.],\n",
              "         [7.],\n",
              "         [8.],\n",
              "         [9.]]),\n",
              " torch.Size([9, 1]))"
            ]
          },
          "metadata": {},
          "execution_count": 53
        }
      ]
    },
    {
      "cell_type": "code",
      "source": [
        "# View - shares the same memory as the original tensor\n",
        "# so x and z share the same memory\n",
        "z_view = x.view(1,9)\n",
        "z_view, z_view.shape"
      ],
      "metadata": {
        "colab": {
          "base_uri": "https://localhost:8080/"
        },
        "id": "M_YQj7uFg5Qd",
        "outputId": "2850b39a-4696-4c6e-c227-f8738e6107a7"
      },
      "execution_count": 54,
      "outputs": [
        {
          "output_type": "execute_result",
          "data": {
            "text/plain": [
              "(tensor([[1., 2., 3., 4., 5., 6., 7., 8., 9.]]), torch.Size([1, 9]))"
            ]
          },
          "metadata": {},
          "execution_count": 54
        }
      ]
    },
    {
      "cell_type": "code",
      "source": [
        "x.shape,z_view.shape"
      ],
      "metadata": {
        "colab": {
          "base_uri": "https://localhost:8080/"
        },
        "id": "ETnc_DKvg5S7",
        "outputId": "2673886e-00f6-4c87-952d-9952d5edeb99"
      },
      "execution_count": 55,
      "outputs": [
        {
          "output_type": "execute_result",
          "data": {
            "text/plain": [
              "(torch.Size([9]), torch.Size([1, 9]))"
            ]
          },
          "metadata": {},
          "execution_count": 55
        }
      ]
    },
    {
      "cell_type": "code",
      "source": [
        "x,z_view"
      ],
      "metadata": {
        "colab": {
          "base_uri": "https://localhost:8080/"
        },
        "id": "lgh0crcmg5Vk",
        "outputId": "3f003915-5b2c-455b-9eeb-4a1345cffc17"
      },
      "execution_count": 56,
      "outputs": [
        {
          "output_type": "execute_result",
          "data": {
            "text/plain": [
              "(tensor([1., 2., 3., 4., 5., 6., 7., 8., 9.]),\n",
              " tensor([[1., 2., 3., 4., 5., 6., 7., 8., 9.]]))"
            ]
          },
          "metadata": {},
          "execution_count": 56
        }
      ]
    },
    {
      "cell_type": "code",
      "source": [
        "z_view[:,0] = 90.\n",
        "z_view,x"
      ],
      "metadata": {
        "colab": {
          "base_uri": "https://localhost:8080/"
        },
        "id": "2WBIxSSlisCB",
        "outputId": "64b09ded-5c13-4876-e329-9c0ccf90b6eb"
      },
      "execution_count": 57,
      "outputs": [
        {
          "output_type": "execute_result",
          "data": {
            "text/plain": [
              "(tensor([[90.,  2.,  3.,  4.,  5.,  6.,  7.,  8.,  9.]]),\n",
              " tensor([90.,  2.,  3.,  4.,  5.,  6.,  7.,  8.,  9.]))"
            ]
          },
          "metadata": {},
          "execution_count": 57
        }
      ]
    },
    {
      "cell_type": "code",
      "source": [
        "## stack tensor\n",
        "x_stacked = torch.stack([x,x,x],dim=0)\n",
        "\n",
        "x_stacked_1 = torch.stack([x,x,x],dim=1)\n",
        "x_stacked,x,x_stacked_1"
      ],
      "metadata": {
        "colab": {
          "base_uri": "https://localhost:8080/"
        },
        "id": "ctp-_aOKi1T1",
        "outputId": "b28a6b9f-6ec5-4519-ef9a-649dd0560625"
      },
      "execution_count": 58,
      "outputs": [
        {
          "output_type": "execute_result",
          "data": {
            "text/plain": [
              "(tensor([[90.,  2.,  3.,  4.,  5.,  6.,  7.,  8.,  9.],\n",
              "         [90.,  2.,  3.,  4.,  5.,  6.,  7.,  8.,  9.],\n",
              "         [90.,  2.,  3.,  4.,  5.,  6.,  7.,  8.,  9.]]),\n",
              " tensor([90.,  2.,  3.,  4.,  5.,  6.,  7.,  8.,  9.]),\n",
              " tensor([[90., 90., 90.],\n",
              "         [ 2.,  2.,  2.],\n",
              "         [ 3.,  3.,  3.],\n",
              "         [ 4.,  4.,  4.],\n",
              "         [ 5.,  5.,  5.],\n",
              "         [ 6.,  6.,  6.],\n",
              "         [ 7.,  7.,  7.],\n",
              "         [ 8.,  8.,  8.],\n",
              "         [ 9.,  9.,  9.]]))"
            ]
          },
          "metadata": {},
          "execution_count": 58
        }
      ]
    },
    {
      "cell_type": "code",
      "source": [
        "x_reshaped,x_reshaped.shape"
      ],
      "metadata": {
        "colab": {
          "base_uri": "https://localhost:8080/"
        },
        "id": "MQA6M8ddjRBR",
        "outputId": "02ff392d-a661-40ec-92fe-c53c05062e79"
      },
      "execution_count": 59,
      "outputs": [
        {
          "output_type": "execute_result",
          "data": {
            "text/plain": [
              "(tensor([[90.],\n",
              "         [ 2.],\n",
              "         [ 3.],\n",
              "         [ 4.],\n",
              "         [ 5.],\n",
              "         [ 6.],\n",
              "         [ 7.],\n",
              "         [ 8.],\n",
              "         [ 9.]]),\n",
              " torch.Size([9, 1]))"
            ]
          },
          "metadata": {},
          "execution_count": 59
        }
      ]
    },
    {
      "cell_type": "code",
      "source": [],
      "metadata": {
        "id": "R8AXDLf_kZiy"
      },
      "execution_count": null,
      "outputs": []
    },
    {
      "cell_type": "code",
      "source": [
        "x_reshaped.squeeze(),x_reshaped.squeeze().shape #-> removes all single dimensions"
      ],
      "metadata": {
        "colab": {
          "base_uri": "https://localhost:8080/"
        },
        "id": "SrFtkScaj73y",
        "outputId": "bf53e177-52be-4394-e4dc-e0f548351fcc"
      },
      "execution_count": 60,
      "outputs": [
        {
          "output_type": "execute_result",
          "data": {
            "text/plain": [
              "(tensor([90.,  2.,  3.,  4.,  5.,  6.,  7.,  8.,  9.]), torch.Size([9]))"
            ]
          },
          "metadata": {},
          "execution_count": 60
        }
      ]
    },
    {
      "cell_type": "code",
      "source": [
        "x_reshaped.unsqueeze(dim=0),x_reshaped.unsqueeze(dim=0).shape"
      ],
      "metadata": {
        "colab": {
          "base_uri": "https://localhost:8080/"
        },
        "id": "sfL26K6ekALU",
        "outputId": "a4158b10-3ed2-4914-a5d6-827eae400ffb"
      },
      "execution_count": 61,
      "outputs": [
        {
          "output_type": "execute_result",
          "data": {
            "text/plain": [
              "(tensor([[[90.],\n",
              "          [ 2.],\n",
              "          [ 3.],\n",
              "          [ 4.],\n",
              "          [ 5.],\n",
              "          [ 6.],\n",
              "          [ 7.],\n",
              "          [ 8.],\n",
              "          [ 9.]]]),\n",
              " torch.Size([1, 9, 1]))"
            ]
          },
          "metadata": {},
          "execution_count": 61
        }
      ]
    },
    {
      "cell_type": "code",
      "source": [
        "x_original = torch.rand(size=(224,225,3)) # [height,width,channels]\n",
        "x_permuted = x_original.permute(2,0,1)\n",
        "x_permuted.shape"
      ],
      "metadata": {
        "colab": {
          "base_uri": "https://localhost:8080/"
        },
        "id": "R-dkwwEiko0j",
        "outputId": "5ed00231-3e36-4a67-bead-04334232b544"
      },
      "execution_count": 62,
      "outputs": [
        {
          "output_type": "execute_result",
          "data": {
            "text/plain": [
              "torch.Size([3, 224, 225])"
            ]
          },
          "metadata": {},
          "execution_count": 62
        }
      ]
    },
    {
      "cell_type": "code",
      "source": [
        " # Indexing"
      ],
      "metadata": {
        "id": "lzKCdL-blbD2"
      },
      "execution_count": 63,
      "outputs": []
    },
    {
      "cell_type": "code",
      "source": [
        "x  =torch.arange(1,10).reshape(1,3,3)\n",
        "x,x.shape"
      ],
      "metadata": {
        "colab": {
          "base_uri": "https://localhost:8080/"
        },
        "id": "eA_ujlUHOV19",
        "outputId": "5857d388-e74c-4f60-a2b4-00259b888c19"
      },
      "execution_count": 64,
      "outputs": [
        {
          "output_type": "execute_result",
          "data": {
            "text/plain": [
              "(tensor([[[1, 2, 3],\n",
              "          [4, 5, 6],\n",
              "          [7, 8, 9]]]),\n",
              " torch.Size([1, 3, 3]))"
            ]
          },
          "metadata": {},
          "execution_count": 64
        }
      ]
    },
    {
      "cell_type": "code",
      "source": [
        "#dim = 0\n",
        "x[0]"
      ],
      "metadata": {
        "colab": {
          "base_uri": "https://localhost:8080/"
        },
        "id": "KV58lzOjOg37",
        "outputId": "2b83c456-2193-45cb-88fa-0b8107273208"
      },
      "execution_count": 65,
      "outputs": [
        {
          "output_type": "execute_result",
          "data": {
            "text/plain": [
              "tensor([[1, 2, 3],\n",
              "        [4, 5, 6],\n",
              "        [7, 8, 9]])"
            ]
          },
          "metadata": {},
          "execution_count": 65
        }
      ]
    },
    {
      "cell_type": "code",
      "source": [
        "#dim=1\n",
        "x[0][0]"
      ],
      "metadata": {
        "colab": {
          "base_uri": "https://localhost:8080/"
        },
        "id": "QNhgBHk0OkI4",
        "outputId": "36dc7f2f-78a3-4757-b842-574e80a9dfe3"
      },
      "execution_count": 66,
      "outputs": [
        {
          "output_type": "execute_result",
          "data": {
            "text/plain": [
              "tensor([1, 2, 3])"
            ]
          },
          "metadata": {},
          "execution_count": 66
        }
      ]
    },
    {
      "cell_type": "code",
      "source": [
        "#dim=2\n",
        "x[0][0][0]"
      ],
      "metadata": {
        "colab": {
          "base_uri": "https://localhost:8080/"
        },
        "id": "0UYS60W_OmJa",
        "outputId": "2e412419-4533-4208-9dc5-4e63e018f34f"
      },
      "execution_count": 67,
      "outputs": [
        {
          "output_type": "execute_result",
          "data": {
            "text/plain": [
              "tensor(1)"
            ]
          },
          "metadata": {},
          "execution_count": 67
        }
      ]
    },
    {
      "cell_type": "code",
      "source": [
        "x[0][2][2]"
      ],
      "metadata": {
        "colab": {
          "base_uri": "https://localhost:8080/"
        },
        "id": "i9zw0GuKOvQP",
        "outputId": "9600895f-d209-4248-9171-5e83b6354a25"
      },
      "execution_count": 68,
      "outputs": [
        {
          "output_type": "execute_result",
          "data": {
            "text/plain": [
              "tensor(9)"
            ]
          },
          "metadata": {},
          "execution_count": 68
        }
      ]
    },
    {
      "cell_type": "code",
      "source": [
        "x[:,0:2,:]"
      ],
      "metadata": {
        "colab": {
          "base_uri": "https://localhost:8080/"
        },
        "id": "ONeg1AVcO3Je",
        "outputId": "e799e987-3e3d-4b92-f105-56129c6a7bd8"
      },
      "execution_count": 70,
      "outputs": [
        {
          "output_type": "execute_result",
          "data": {
            "text/plain": [
              "tensor([[[1, 2, 3],\n",
              "         [4, 5, 6]]])"
            ]
          },
          "metadata": {},
          "execution_count": 70
        }
      ]
    },
    {
      "cell_type": "code",
      "source": [
        "x[:,:,0]"
      ],
      "metadata": {
        "colab": {
          "base_uri": "https://localhost:8080/"
        },
        "id": "ZaLGOQ90O_Kp",
        "outputId": "97227644-fac7-49e5-ca10-2d28645d6f61"
      },
      "execution_count": 71,
      "outputs": [
        {
          "output_type": "execute_result",
          "data": {
            "text/plain": [
              "tensor([[1, 4, 7]])"
            ]
          },
          "metadata": {},
          "execution_count": 71
        }
      ]
    },
    {
      "cell_type": "code",
      "source": [
        "x[:,1,1],x[0][1][1]"
      ],
      "metadata": {
        "colab": {
          "base_uri": "https://localhost:8080/"
        },
        "id": "CcGRujAgPSmG",
        "outputId": "21470a0b-c539-4132-a290-ee0a10e861c3"
      },
      "execution_count": 74,
      "outputs": [
        {
          "output_type": "execute_result",
          "data": {
            "text/plain": [
              "(tensor([5]), tensor(5))"
            ]
          },
          "metadata": {},
          "execution_count": 74
        }
      ]
    },
    {
      "cell_type": "code",
      "source": [],
      "metadata": {
        "colab": {
          "base_uri": "https://localhost:8080/"
        },
        "id": "uUUETLWuPYg7",
        "outputId": "b267438b-8188-47c5-d55d-e51af0682034"
      },
      "execution_count": 73,
      "outputs": [
        {
          "output_type": "execute_result",
          "data": {
            "text/plain": [
              "tensor(5)"
            ]
          },
          "metadata": {},
          "execution_count": 73
        }
      ]
    },
    {
      "cell_type": "code",
      "source": [
        "x[0][0][:],x[0,0,:]"
      ],
      "metadata": {
        "colab": {
          "base_uri": "https://localhost:8080/"
        },
        "id": "37X54_8lPkxI",
        "outputId": "5dbf83d1-3b95-43e5-ded6-6f487d5cbce5"
      },
      "execution_count": 76,
      "outputs": [
        {
          "output_type": "execute_result",
          "data": {
            "text/plain": [
              "(tensor([1, 2, 3]), tensor([1, 2, 3]))"
            ]
          },
          "metadata": {},
          "execution_count": 76
        }
      ]
    },
    {
      "cell_type": "code",
      "source": [
        "x[0][:][2],x[0,:,2]"
      ],
      "metadata": {
        "colab": {
          "base_uri": "https://localhost:8080/"
        },
        "id": "FMRGFBVEPtnq",
        "outputId": "b6a866be-4c44-44a4-d157-2fad61f950e0"
      },
      "execution_count": 81,
      "outputs": [
        {
          "output_type": "execute_result",
          "data": {
            "text/plain": [
              "(tensor([7, 8, 9]), tensor([3, 6, 9]))"
            ]
          },
          "metadata": {},
          "execution_count": 81
        }
      ]
    },
    {
      "cell_type": "code",
      "source": [
        "#always use the x[0,:,:] approach"
      ],
      "metadata": {
        "id": "mvExD6XcP6of"
      },
      "execution_count": 82,
      "outputs": []
    },
    {
      "cell_type": "markdown",
      "source": [
        "### Pytorch and Numpy"
      ],
      "metadata": {
        "id": "mGvLwW_wQMDa"
      }
    },
    {
      "cell_type": "markdown",
      "source": [
        "#### Numpy tp tensor"
      ],
      "metadata": {
        "id": "6rR_JMQCQTzl"
      }
    },
    {
      "cell_type": "code",
      "source": [
        "import numpy as np"
      ],
      "metadata": {
        "id": "kIxJqqlUQfTT"
      },
      "execution_count": 84,
      "outputs": []
    },
    {
      "cell_type": "code",
      "source": [
        "array = np.arange(1.0,8.0)\n",
        "tensor_64 = torch.from_numpy(array)\n",
        "array,tensor\n",
        "\n",
        "# the default type of numpy is float64 while the default type of tensor is float32\n",
        "# so the while converting a numpy to tensor the created tensor will be of type float64\n",
        "# so to convert a numpy to tensor of dtype = float32 we can use...\n",
        "tensor_32 = torch.from_numpy(array).type(dtype=torch.float32)\n",
        "\n",
        "array,tensor_64,tensor_32"
      ],
      "metadata": {
        "colab": {
          "base_uri": "https://localhost:8080/"
        },
        "id": "k-ZNZkDdQfd5",
        "outputId": "66c4cb0f-e4ba-4fc8-e3e2-e86ec3fa4854"
      },
      "execution_count": 87,
      "outputs": [
        {
          "output_type": "execute_result",
          "data": {
            "text/plain": [
              "(array([1., 2., 3., 4., 5., 6., 7.]),\n",
              " tensor([1., 2., 3., 4., 5., 6., 7.], dtype=torch.float64),\n",
              " tensor([1., 2., 3., 4., 5., 6., 7.]))"
            ]
          },
          "metadata": {},
          "execution_count": 87
        }
      ]
    },
    {
      "cell_type": "code",
      "source": [
        "array = array + 1\n",
        "array,tensor_64\n",
        "## array and tensor does not share the same memory space"
      ],
      "metadata": {
        "colab": {
          "base_uri": "https://localhost:8080/"
        },
        "id": "4d1J30-qQfgu",
        "outputId": "98a6cb48-2b3a-4770-c60f-4fdf56930b24"
      },
      "execution_count": 90,
      "outputs": [
        {
          "output_type": "execute_result",
          "data": {
            "text/plain": [
              "(array([ 4.,  5.,  6.,  7.,  8.,  9., 10.]),\n",
              " tensor([1., 2., 3., 4., 5., 6., 7.], dtype=torch.float64))"
            ]
          },
          "metadata": {},
          "execution_count": 90
        }
      ]
    },
    {
      "cell_type": "code",
      "source": [
        "tensor_random =  torch.ones(7)"
      ],
      "metadata": {
        "id": "azlt6rUCRrS5"
      },
      "execution_count": 102,
      "outputs": []
    },
    {
      "cell_type": "code",
      "source": [
        "# Tensor to numpy\n",
        "numpy_tensor = tensor_random.numpy()\n",
        "tensor_random, numpy_tensor\n",
        "\n",
        "## the numpy_tensor takes the dtype of float32 which the default of torch tensor"
      ],
      "metadata": {
        "colab": {
          "base_uri": "https://localhost:8080/"
        },
        "id": "BjyZb_BzSDoy",
        "outputId": "65c78003-7dd6-4bed-a25d-370b0d0e983d"
      },
      "execution_count": 103,
      "outputs": [
        {
          "output_type": "execute_result",
          "data": {
            "text/plain": [
              "(tensor([1., 1., 1., 1., 1., 1., 1.]),\n",
              " array([1., 1., 1., 1., 1., 1., 1.], dtype=float32))"
            ]
          },
          "metadata": {},
          "execution_count": 103
        }
      ]
    },
    {
      "cell_type": "code",
      "source": [
        "tensor_random+=1\n",
        "tensor_random,numpy_tensor\n",
        "# the numpy will share the same memory"
      ],
      "metadata": {
        "colab": {
          "base_uri": "https://localhost:8080/"
        },
        "id": "GvUIjKp4SS4r",
        "outputId": "08f6523b-a8e8-4bc5-d70c-0a480bdc3202"
      },
      "execution_count": 104,
      "outputs": [
        {
          "output_type": "execute_result",
          "data": {
            "text/plain": [
              "(tensor([2., 2., 2., 2., 2., 2., 2.]),\n",
              " array([2., 2., 2., 2., 2., 2., 2.], dtype=float32))"
            ]
          },
          "metadata": {},
          "execution_count": 104
        }
      ]
    },
    {
      "cell_type": "markdown",
      "source": [
        "## Reproducibility (trying to take random out of random)"
      ],
      "metadata": {
        "id": "eY9i6HCcS9UE"
      }
    },
    {
      "cell_type": "code",
      "source": [
        "\n",
        "torch_not_random_A = torch.rand(3,3)\n",
        "torch_not_random_B = torch.rand(3,3)\n",
        "torch_not_random_A,torch_not_random_B"
      ],
      "metadata": {
        "colab": {
          "base_uri": "https://localhost:8080/"
        },
        "id": "AGZBnvwMUHaq",
        "outputId": "bda9eaa4-71cd-4975-f58b-031e7632203a"
      },
      "execution_count": 107,
      "outputs": [
        {
          "output_type": "execute_result",
          "data": {
            "text/plain": [
              "(tensor([[0.6993, 0.7504, 0.4892],\n",
              "         [0.4369, 0.1653, 0.7441],\n",
              "         [0.8943, 0.9651, 0.6108]]),\n",
              " tensor([[0.3713, 0.5961, 0.3273],\n",
              "         [0.7553, 0.9432, 0.2846],\n",
              "         [0.9662, 0.1398, 0.0897]]))"
            ]
          },
          "metadata": {},
          "execution_count": 107
        }
      ]
    },
    {
      "cell_type": "code",
      "source": [
        "## Lets use a seed\n",
        "\n",
        "RANDOM_SEED  = 42\n",
        "torch.manual_seed(RANDOM_SEED)\n",
        "torch_not_random_A = torch.rand(3,3)\n",
        "torch.manual_seed(RANDOM_SEED)\n",
        "torch_not_random_B = torch.rand(3,3)\n",
        "\n",
        "print(torch_not_random_B ==torch_not_random_A)"
      ],
      "metadata": {
        "colab": {
          "base_uri": "https://localhost:8080/"
        },
        "id": "T6ganbXJUHjr",
        "outputId": "bb99cac4-f493-407b-b645-9ebc430b2dab"
      },
      "execution_count": 109,
      "outputs": [
        {
          "output_type": "stream",
          "name": "stdout",
          "text": [
            "tensor([[True, True, True],\n",
            "        [True, True, True],\n",
            "        [True, True, True]])\n"
          ]
        }
      ]
    },
    {
      "cell_type": "markdown",
      "source": [
        "### GPU access"
      ],
      "metadata": {
        "id": "20nDAnk3UHmt"
      }
    },
    {
      "cell_type": "code",
      "source": [
        "!nvidia-smi"
      ],
      "metadata": {
        "colab": {
          "base_uri": "https://localhost:8080/"
        },
        "id": "8QSkudUqVcaY",
        "outputId": "7144ac6a-9665-40bf-c800-4394e5e0620b"
      },
      "execution_count": 2,
      "outputs": [
        {
          "output_type": "stream",
          "name": "stdout",
          "text": [
            "Wed Jan  3 03:22:02 2024       \n",
            "+---------------------------------------------------------------------------------------+\n",
            "| NVIDIA-SMI 535.104.05             Driver Version: 535.104.05   CUDA Version: 12.2     |\n",
            "|-----------------------------------------+----------------------+----------------------+\n",
            "| GPU  Name                 Persistence-M | Bus-Id        Disp.A | Volatile Uncorr. ECC |\n",
            "| Fan  Temp   Perf          Pwr:Usage/Cap |         Memory-Usage | GPU-Util  Compute M. |\n",
            "|                                         |                      |               MIG M. |\n",
            "|=========================================+======================+======================|\n",
            "|   0  Tesla T4                       Off | 00000000:00:04.0 Off |                    0 |\n",
            "| N/A   60C    P8              10W /  70W |      0MiB / 15360MiB |      0%      Default |\n",
            "|                                         |                      |                  N/A |\n",
            "+-----------------------------------------+----------------------+----------------------+\n",
            "                                                                                         \n",
            "+---------------------------------------------------------------------------------------+\n",
            "| Processes:                                                                            |\n",
            "|  GPU   GI   CI        PID   Type   Process name                            GPU Memory |\n",
            "|        ID   ID                                                             Usage      |\n",
            "|=======================================================================================|\n",
            "|  No running processes found                                                           |\n",
            "+---------------------------------------------------------------------------------------+\n"
          ]
        }
      ]
    },
    {
      "cell_type": "code",
      "source": [
        "torch.cuda.is_available()"
      ],
      "metadata": {
        "colab": {
          "base_uri": "https://localhost:8080/"
        },
        "id": "EMqUb1NTVedP",
        "outputId": "77fcbd8c-c985-43e3-9e70-1793c4bace9c"
      },
      "execution_count": 3,
      "outputs": [
        {
          "output_type": "execute_result",
          "data": {
            "text/plain": [
              "True"
            ]
          },
          "metadata": {},
          "execution_count": 3
        }
      ]
    },
    {
      "cell_type": "code",
      "source": [
        "device  = \"cuda\" if torch.cuda.is_available() else \"cpu\""
      ],
      "metadata": {
        "id": "XZdMdwgTWCe2"
      },
      "execution_count": 4,
      "outputs": []
    },
    {
      "cell_type": "code",
      "source": [
        "torch.cuda.device_count()"
      ],
      "metadata": {
        "colab": {
          "base_uri": "https://localhost:8080/"
        },
        "id": "ilbA6yeIWIc8",
        "outputId": "2928a2c5-4f29-4d35-e622-0862b471b2de"
      },
      "execution_count": 5,
      "outputs": [
        {
          "output_type": "execute_result",
          "data": {
            "text/plain": [
              "1"
            ]
          },
          "metadata": {},
          "execution_count": 5
        }
      ]
    },
    {
      "cell_type": "code",
      "source": [
        "###\n",
        "tensor_cpu = torch.tensor([1,2,3])\n",
        "print(tensor_cpu, tensor_cpu.device)"
      ],
      "metadata": {
        "colab": {
          "base_uri": "https://localhost:8080/"
        },
        "id": "6pnhPUNRWNwQ",
        "outputId": "672fecb4-6246-4496-a6f8-758e2f8846a2"
      },
      "execution_count": 7,
      "outputs": [
        {
          "output_type": "stream",
          "name": "stdout",
          "text": [
            "tensor([1, 2, 3]) cpu\n"
          ]
        }
      ]
    },
    {
      "cell_type": "code",
      "source": [
        "tensor_gpu = tensor_cpu.to(device)\n",
        "tensor_gpu"
      ],
      "metadata": {
        "colab": {
          "base_uri": "https://localhost:8080/"
        },
        "id": "xuqhPdFEWpAr",
        "outputId": "87ed52af-08ad-4ff9-f1f8-2fa6c0c476ba"
      },
      "execution_count": 9,
      "outputs": [
        {
          "output_type": "execute_result",
          "data": {
            "text/plain": [
              "tensor([1, 2, 3], device='cuda:0')"
            ]
          },
          "metadata": {},
          "execution_count": 9
        }
      ]
    },
    {
      "cell_type": "code",
      "source": [
        "tensor_gpu.numpy() ## good error\n",
        "## cant convert tensor on gpu to numpy"
      ],
      "metadata": {
        "colab": {
          "base_uri": "https://localhost:8080/",
          "height": 192
        },
        "id": "atR90blIW0N8",
        "outputId": "5be97aa9-1612-41af-d211-c9d5c01587a4"
      },
      "execution_count": 11,
      "outputs": [
        {
          "output_type": "error",
          "ename": "TypeError",
          "evalue": "ignored",
          "traceback": [
            "\u001b[0;31m---------------------------------------------------------------------------\u001b[0m",
            "\u001b[0;31mTypeError\u001b[0m                                 Traceback (most recent call last)",
            "\u001b[0;32m<ipython-input-11-31dc8ebee48a>\u001b[0m in \u001b[0;36m<cell line: 1>\u001b[0;34m()\u001b[0m\n\u001b[0;32m----> 1\u001b[0;31m \u001b[0mtensor_gpu\u001b[0m\u001b[0;34m.\u001b[0m\u001b[0mnumpy\u001b[0m\u001b[0;34m(\u001b[0m\u001b[0;34m)\u001b[0m \u001b[0;31m## good error\u001b[0m\u001b[0;34m\u001b[0m\u001b[0;34m\u001b[0m\u001b[0m\n\u001b[0m\u001b[1;32m      2\u001b[0m \u001b[0;31m## cant convert tensor on gpu to numpy\u001b[0m\u001b[0;34m\u001b[0m\u001b[0;34m\u001b[0m\u001b[0m\n",
            "\u001b[0;31mTypeError\u001b[0m: can't convert cuda:0 device type tensor to numpy. Use Tensor.cpu() to copy the tensor to host memory first."
          ]
        }
      ]
    },
    {
      "cell_type": "code",
      "source": [
        "tensor_gpu_cpu = tensor_gpu.cpu()\n",
        "tensor_gpu_cpu.numpy()"
      ],
      "metadata": {
        "colab": {
          "base_uri": "https://localhost:8080/"
        },
        "id": "ig2L0oW0W-Ue",
        "outputId": "ea8c48c7-4ec1-47f3-9723-61a33d408b10"
      },
      "execution_count": 12,
      "outputs": [
        {
          "output_type": "execute_result",
          "data": {
            "text/plain": [
              "array([1, 2, 3])"
            ]
          },
          "metadata": {},
          "execution_count": 12
        }
      ]
    },
    {
      "cell_type": "code",
      "source": [
        "tensor_gpu"
      ],
      "metadata": {
        "colab": {
          "base_uri": "https://localhost:8080/"
        },
        "id": "QEWFHp3RXMhH",
        "outputId": "37c52a61-2ebe-496b-c21c-ca7219368b84"
      },
      "execution_count": 13,
      "outputs": [
        {
          "output_type": "execute_result",
          "data": {
            "text/plain": [
              "tensor([1, 2, 3], device='cuda:0')"
            ]
          },
          "metadata": {},
          "execution_count": 13
        }
      ]
    },
    {
      "cell_type": "code",
      "source": [],
      "metadata": {
        "id": "P-BNuompXQO-"
      },
      "execution_count": null,
      "outputs": []
    }
  ]
}